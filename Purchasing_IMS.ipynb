{
  "nbformat": 4,
  "nbformat_minor": 0,
  "metadata": {
    "colab": {
      "name": "Purchasing_IMS.ipynb",
      "provenance": []
    },
    "kernelspec": {
      "name": "python3",
      "display_name": "Python 3"
    },
    "language_info": {
      "name": "python"
    }
  },
  "cells": [
    {
      "cell_type": "code",
      "metadata": {
        "id": "3MRinCy-jPLl"
      },
      "source": [
        "import json\n",
        "\n",
        "fd = open(\"record.json\",'r')\n",
        "r = fd.read()\n",
        "fd.close()\n",
        "\n",
        "records = json.loads(r)"
      ],
      "execution_count": 34,
      "outputs": []
    },
    {
      "cell_type": "code",
      "metadata": {
        "colab": {
          "base_uri": "https://localhost:8080/"
        },
        "id": "vMBFEEO4jiKx",
        "outputId": "d2afdbb1-d9a1-4322-dad3-5c60f3da421e"
      },
      "source": [
        "u_prod  = str(input(\"Enter the product_Id: \"))\n",
        "u_quant = int(input(\"Enter the quantity: \"))\n",
        "\n",
        "\n",
        "print(\"Product: \", records[u_prod][\"P_name\"])\n",
        "print(\"Price: \", records[u_prod][\"P_MRP\"])\n",
        "print(\"Billing Amount: \", records[u_prod][\"P_MRP\"] * u_quant)\n",
        "\n",
        "records[u_prod][\"P_Quant\"] = records[u_prod][\"P_Quant\"] - u_quant"
      ],
      "execution_count": 35,
      "outputs": [
        {
          "output_type": "stream",
          "name": "stdout",
          "text": [
            "Enter the product_Id: 120009\n",
            "Enter the quantity: 3\n",
            "Product:  Crispello\n",
            "Price:  40\n",
            "Billing Amount:  120\n"
          ]
        }
      ]
    },
    {
      "cell_type": "code",
      "metadata": {
        "id": "4nvlcuBfquOd"
      },
      "source": [
        "js = json.dumps(records)\n",
        "\n",
        "fd = open(\"record.json\",'w')\n",
        "fd.write(js)\n",
        "fd.close()"
      ],
      "execution_count": 36,
      "outputs": []
    },
    {
      "cell_type": "code",
      "metadata": {
        "colab": {
          "base_uri": "https://localhost:8080/"
        },
        "id": "GX6AOuaUrTtI",
        "outputId": "4684dbc1-1f19-434a-e9c5-2c75d489c766"
      },
      "source": [
        "{'P_ID' : u_prod, 'P_Quantity' : u_quant, 'P_Amount': records[u_prod][\"P_MRP\"] * u_quant}\n"
      ],
      "execution_count": 57,
      "outputs": [
        {
          "output_type": "execute_result",
          "data": {
            "text/plain": [
              "{'P_Amount': 120, 'P_ID': '120009', 'P_Quantity': 3}"
            ]
          },
          "metadata": {},
          "execution_count": 57
        }
      ]
    },
    {
      "cell_type": "code",
      "metadata": {
        "id": "F3t3JZs6s8ca"
      },
      "source": [
        "sales = {1: {'P_ID' : u_prod, 'P_Quantity' : u_quant, 'P_Amount': records[u_prod][\"P_MRP\"] * u_quant}}\n"
      ],
      "execution_count": 58,
      "outputs": []
    },
    {
      "cell_type": "code",
      "metadata": {
        "colab": {
          "base_uri": "https://localhost:8080/"
        },
        "id": "Mbr-7f650fjT",
        "outputId": "b42617aa-2913-44ab-967a-2588f3cfc7ba"
      },
      "source": [
        "sales"
      ],
      "execution_count": 59,
      "outputs": [
        {
          "output_type": "execute_result",
          "data": {
            "text/plain": [
              "{1: {'P_Amount': 120, 'P_ID': '120009', 'P_Quantity': 3}}"
            ]
          },
          "metadata": {},
          "execution_count": 59
        }
      ]
    },
    {
      "cell_type": "code",
      "metadata": {
        "id": "hd7G-qBLtnmk"
      },
      "source": [
        "sales[len(sales)] = {'P_ID' : u_prod, 'P_Quantity' : u_quant, 'P_Amount': records[u_prod][\"P_MRP\"] * u_quant}\n",
        "sale = json.dumps(sales)\n"
      ],
      "execution_count": 60,
      "outputs": []
    },
    {
      "cell_type": "code",
      "metadata": {
        "colab": {
          "base_uri": "https://localhost:8080/"
        },
        "id": "2w27OPme0jrU",
        "outputId": "5f0dd6e6-568e-4230-f990-7fd7d5bfec74"
      },
      "source": [
        "sales"
      ],
      "execution_count": 61,
      "outputs": [
        {
          "output_type": "execute_result",
          "data": {
            "text/plain": [
              "{1: {'P_Amount': 120, 'P_ID': '120009', 'P_Quantity': 3}}"
            ]
          },
          "metadata": {},
          "execution_count": 61
        }
      ]
    },
    {
      "cell_type": "code",
      "metadata": {
        "id": "IoB3kBWntxaQ"
      },
      "source": [
        "with open(\"Sales.json\",\"a\") as outfile: \n",
        "    outfile.write(sale)"
      ],
      "execution_count": 64,
      "outputs": []
    }
  ]
}